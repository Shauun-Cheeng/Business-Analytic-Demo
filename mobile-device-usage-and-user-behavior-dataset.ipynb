{
 "cells": [
  {
   "cell_type": "markdown",
   "id": "aecd9fe7",
   "metadata": {
    "papermill": {
     "duration": 0.009387,
     "end_time": "2024-11-15T14:32:50.726178",
     "exception": false,
     "start_time": "2024-11-15T14:32:50.716791",
     "status": "completed"
    },
    "tags": []
   },
   "source": [
    "# Introduction"
   ]
  },
  {
   "cell_type": "markdown",
   "id": "d47197da",
   "metadata": {
    "papermill": {
     "duration": 0.008272,
     "end_time": "2024-11-15T14:32:50.743320",
     "exception": false,
     "start_time": "2024-11-15T14:32:50.735048",
     "status": "completed"
    },
    "tags": []
   },
   "source": [
    "About this Dataset https://www.kaggle.com/datasets/valakhorasani/mobile-device-usage-and-user-behavior-dataset\n",
    "\n",
    "This dataset provides a comprehensive analysis of mobile device usage patterns and user behavior classification. It contains 700 samples of user data, including metrics such as app usage time, screen-on time, battery drain, and data consumption. Each entry is categorized into one of five user behavior classes, ranging from light to extreme usage, allowing for insightful analysis and modeling."
   ]
  },
  {
   "cell_type": "markdown",
   "id": "c0fd1946",
   "metadata": {
    "papermill": {
     "duration": 0.008373,
     "end_time": "2024-11-15T14:32:50.760434",
     "exception": false,
     "start_time": "2024-11-15T14:32:50.752061",
     "status": "completed"
    },
    "tags": []
   },
   "source": [
    "# Method"
   ]
  },
  {
   "cell_type": "markdown",
   "id": "e308b635",
   "metadata": {
    "papermill": {
     "duration": 0.00835,
     "end_time": "2024-11-15T14:32:50.777421",
     "exception": false,
     "start_time": "2024-11-15T14:32:50.769071",
     "status": "completed"
    },
    "tags": []
   },
   "source": [
    "1.Data Collection\n",
    "Data collection is the initial and crucial step in any data-driven project. It involves gathering raw information from various sources to gain insights, make informed decisions, and solve problems.\n",
    "\n",
    "2.Descriptive Statistics \n",
    "Descriptive statistics is a branch of statistics that involves summarizing and describing the main features of a dataset. It provides a snapshot of the data, highlighting its central tendencies, variability, and distribution.\n",
    "\n",
    "3.Web Scraping\n",
    "Web scraping is an automated process of extracting data from websites. It involves using software to fetch, parse, and structure data from the web. This technique is widely used for various purposes.\n",
    "\n",
    "4.Regression Analysis\n",
    "Regression analysis is a statistical method used to model the relationship between a dependent variable and one or more independent variables. It helps us understand how changes in the independent variables affect the dependent variable."
   ]
  },
  {
   "cell_type": "markdown",
   "id": "8732ea82",
   "metadata": {
    "papermill": {
     "duration": 0.008283,
     "end_time": "2024-11-15T14:32:50.794440",
     "exception": false,
     "start_time": "2024-11-15T14:32:50.786157",
     "status": "completed"
    },
    "tags": []
   },
   "source": [
    "# Data display"
   ]
  },
  {
   "cell_type": "code",
   "execution_count": 1,
   "id": "725fc228",
   "metadata": {
    "execution": {
     "iopub.execute_input": "2024-11-15T14:32:50.815032Z",
     "iopub.status.busy": "2024-11-15T14:32:50.814436Z",
     "iopub.status.idle": "2024-11-15T14:32:53.589938Z",
     "shell.execute_reply": "2024-11-15T14:32:53.588761Z"
    },
    "papermill": {
     "duration": 2.789845,
     "end_time": "2024-11-15T14:32:53.592846",
     "exception": false,
     "start_time": "2024-11-15T14:32:50.803001",
     "status": "completed"
    },
    "tags": []
   },
   "outputs": [],
   "source": [
    "# Import necessary libraries\n",
    "import numpy as np\n",
    "import pandas as pd\n",
    "import matplotlib.pyplot as plt\n",
    "import matplotlib.dates as mdates\n",
    "import seaborn as sns"
   ]
  },
  {
   "cell_type": "code",
   "execution_count": 2,
   "id": "f75412d6",
   "metadata": {
    "execution": {
     "iopub.execute_input": "2024-11-15T14:32:53.612794Z",
     "iopub.status.busy": "2024-11-15T14:32:53.611923Z",
     "iopub.status.idle": "2024-11-15T14:32:53.642786Z",
     "shell.execute_reply": "2024-11-15T14:32:53.641642Z"
    },
    "papermill": {
     "duration": 0.043851,
     "end_time": "2024-11-15T14:32:53.645645",
     "exception": false,
     "start_time": "2024-11-15T14:32:53.601794",
     "status": "completed"
    },
    "tags": []
   },
   "outputs": [],
   "source": [
    "# Load datasets\n",
    "data = pd.read_csv('/kaggle/input/mobile-device-usage-and-user-behavior-dataset/user_behavior_dataset.csv')"
   ]
  },
  {
   "cell_type": "code",
   "execution_count": 3,
   "id": "18888746",
   "metadata": {
    "execution": {
     "iopub.execute_input": "2024-11-15T14:32:53.664718Z",
     "iopub.status.busy": "2024-11-15T14:32:53.664296Z",
     "iopub.status.idle": "2024-11-15T14:32:53.691810Z",
     "shell.execute_reply": "2024-11-15T14:32:53.690555Z"
    },
    "papermill": {
     "duration": 0.040036,
     "end_time": "2024-11-15T14:32:53.694297",
     "exception": false,
     "start_time": "2024-11-15T14:32:53.654261",
     "status": "completed"
    },
    "tags": []
   },
   "outputs": [
    {
     "data": {
      "text/html": [
       "<div>\n",
       "<style scoped>\n",
       "    .dataframe tbody tr th:only-of-type {\n",
       "        vertical-align: middle;\n",
       "    }\n",
       "\n",
       "    .dataframe tbody tr th {\n",
       "        vertical-align: top;\n",
       "    }\n",
       "\n",
       "    .dataframe thead th {\n",
       "        text-align: right;\n",
       "    }\n",
       "</style>\n",
       "<table border=\"1\" class=\"dataframe\">\n",
       "  <thead>\n",
       "    <tr style=\"text-align: right;\">\n",
       "      <th></th>\n",
       "      <th>User ID</th>\n",
       "      <th>Device Model</th>\n",
       "      <th>Operating System</th>\n",
       "      <th>App Usage Time (min/day)</th>\n",
       "      <th>Screen On Time (hours/day)</th>\n",
       "      <th>Battery Drain (mAh/day)</th>\n",
       "      <th>Number of Apps Installed</th>\n",
       "      <th>Data Usage (MB/day)</th>\n",
       "      <th>Age</th>\n",
       "      <th>Gender</th>\n",
       "      <th>User Behavior Class</th>\n",
       "    </tr>\n",
       "  </thead>\n",
       "  <tbody>\n",
       "    <tr>\n",
       "      <th>0</th>\n",
       "      <td>1</td>\n",
       "      <td>Google Pixel 5</td>\n",
       "      <td>Android</td>\n",
       "      <td>393</td>\n",
       "      <td>6.4</td>\n",
       "      <td>1872</td>\n",
       "      <td>67</td>\n",
       "      <td>1122</td>\n",
       "      <td>40</td>\n",
       "      <td>Male</td>\n",
       "      <td>4</td>\n",
       "    </tr>\n",
       "    <tr>\n",
       "      <th>1</th>\n",
       "      <td>2</td>\n",
       "      <td>OnePlus 9</td>\n",
       "      <td>Android</td>\n",
       "      <td>268</td>\n",
       "      <td>4.7</td>\n",
       "      <td>1331</td>\n",
       "      <td>42</td>\n",
       "      <td>944</td>\n",
       "      <td>47</td>\n",
       "      <td>Female</td>\n",
       "      <td>3</td>\n",
       "    </tr>\n",
       "    <tr>\n",
       "      <th>2</th>\n",
       "      <td>3</td>\n",
       "      <td>Xiaomi Mi 11</td>\n",
       "      <td>Android</td>\n",
       "      <td>154</td>\n",
       "      <td>4.0</td>\n",
       "      <td>761</td>\n",
       "      <td>32</td>\n",
       "      <td>322</td>\n",
       "      <td>42</td>\n",
       "      <td>Male</td>\n",
       "      <td>2</td>\n",
       "    </tr>\n",
       "    <tr>\n",
       "      <th>3</th>\n",
       "      <td>4</td>\n",
       "      <td>Google Pixel 5</td>\n",
       "      <td>Android</td>\n",
       "      <td>239</td>\n",
       "      <td>4.8</td>\n",
       "      <td>1676</td>\n",
       "      <td>56</td>\n",
       "      <td>871</td>\n",
       "      <td>20</td>\n",
       "      <td>Male</td>\n",
       "      <td>3</td>\n",
       "    </tr>\n",
       "    <tr>\n",
       "      <th>4</th>\n",
       "      <td>5</td>\n",
       "      <td>iPhone 12</td>\n",
       "      <td>iOS</td>\n",
       "      <td>187</td>\n",
       "      <td>4.3</td>\n",
       "      <td>1367</td>\n",
       "      <td>58</td>\n",
       "      <td>988</td>\n",
       "      <td>31</td>\n",
       "      <td>Female</td>\n",
       "      <td>3</td>\n",
       "    </tr>\n",
       "  </tbody>\n",
       "</table>\n",
       "</div>"
      ],
      "text/plain": [
       "   User ID    Device Model Operating System  App Usage Time (min/day)  \\\n",
       "0        1  Google Pixel 5          Android                       393   \n",
       "1        2       OnePlus 9          Android                       268   \n",
       "2        3    Xiaomi Mi 11          Android                       154   \n",
       "3        4  Google Pixel 5          Android                       239   \n",
       "4        5       iPhone 12              iOS                       187   \n",
       "\n",
       "   Screen On Time (hours/day)  Battery Drain (mAh/day)  \\\n",
       "0                         6.4                     1872   \n",
       "1                         4.7                     1331   \n",
       "2                         4.0                      761   \n",
       "3                         4.8                     1676   \n",
       "4                         4.3                     1367   \n",
       "\n",
       "   Number of Apps Installed  Data Usage (MB/day)  Age  Gender  \\\n",
       "0                        67                 1122   40    Male   \n",
       "1                        42                  944   47  Female   \n",
       "2                        32                  322   42    Male   \n",
       "3                        56                  871   20    Male   \n",
       "4                        58                  988   31  Female   \n",
       "\n",
       "   User Behavior Class  \n",
       "0                    4  \n",
       "1                    3  \n",
       "2                    2  \n",
       "3                    3  \n",
       "4                    3  "
      ]
     },
     "execution_count": 3,
     "metadata": {},
     "output_type": "execute_result"
    }
   ],
   "source": [
    "data.head()"
   ]
  },
  {
   "cell_type": "code",
   "execution_count": 4,
   "id": "db9ef8e6",
   "metadata": {
    "execution": {
     "iopub.execute_input": "2024-11-15T14:32:53.714463Z",
     "iopub.status.busy": "2024-11-15T14:32:53.714027Z",
     "iopub.status.idle": "2024-11-15T14:32:53.730894Z",
     "shell.execute_reply": "2024-11-15T14:32:53.729732Z"
    },
    "papermill": {
     "duration": 0.029649,
     "end_time": "2024-11-15T14:32:53.733253",
     "exception": false,
     "start_time": "2024-11-15T14:32:53.703604",
     "status": "completed"
    },
    "tags": []
   },
   "outputs": [
    {
     "data": {
      "text/html": [
       "<div>\n",
       "<style scoped>\n",
       "    .dataframe tbody tr th:only-of-type {\n",
       "        vertical-align: middle;\n",
       "    }\n",
       "\n",
       "    .dataframe tbody tr th {\n",
       "        vertical-align: top;\n",
       "    }\n",
       "\n",
       "    .dataframe thead th {\n",
       "        text-align: right;\n",
       "    }\n",
       "</style>\n",
       "<table border=\"1\" class=\"dataframe\">\n",
       "  <thead>\n",
       "    <tr style=\"text-align: right;\">\n",
       "      <th></th>\n",
       "      <th>User ID</th>\n",
       "      <th>Device Model</th>\n",
       "      <th>Operating System</th>\n",
       "      <th>App Usage Time (min/day)</th>\n",
       "      <th>Screen On Time (hours/day)</th>\n",
       "      <th>Battery Drain (mAh/day)</th>\n",
       "      <th>Number of Apps Installed</th>\n",
       "      <th>Data Usage (MB/day)</th>\n",
       "      <th>Age</th>\n",
       "      <th>Gender</th>\n",
       "      <th>User Behavior Class</th>\n",
       "    </tr>\n",
       "  </thead>\n",
       "  <tbody>\n",
       "    <tr>\n",
       "      <th>695</th>\n",
       "      <td>696</td>\n",
       "      <td>iPhone 12</td>\n",
       "      <td>iOS</td>\n",
       "      <td>92</td>\n",
       "      <td>3.9</td>\n",
       "      <td>1082</td>\n",
       "      <td>26</td>\n",
       "      <td>381</td>\n",
       "      <td>22</td>\n",
       "      <td>Male</td>\n",
       "      <td>2</td>\n",
       "    </tr>\n",
       "    <tr>\n",
       "      <th>696</th>\n",
       "      <td>697</td>\n",
       "      <td>Xiaomi Mi 11</td>\n",
       "      <td>Android</td>\n",
       "      <td>316</td>\n",
       "      <td>6.8</td>\n",
       "      <td>1965</td>\n",
       "      <td>68</td>\n",
       "      <td>1201</td>\n",
       "      <td>59</td>\n",
       "      <td>Male</td>\n",
       "      <td>4</td>\n",
       "    </tr>\n",
       "    <tr>\n",
       "      <th>697</th>\n",
       "      <td>698</td>\n",
       "      <td>Google Pixel 5</td>\n",
       "      <td>Android</td>\n",
       "      <td>99</td>\n",
       "      <td>3.1</td>\n",
       "      <td>942</td>\n",
       "      <td>22</td>\n",
       "      <td>457</td>\n",
       "      <td>50</td>\n",
       "      <td>Female</td>\n",
       "      <td>2</td>\n",
       "    </tr>\n",
       "    <tr>\n",
       "      <th>698</th>\n",
       "      <td>699</td>\n",
       "      <td>Samsung Galaxy S21</td>\n",
       "      <td>Android</td>\n",
       "      <td>62</td>\n",
       "      <td>1.7</td>\n",
       "      <td>431</td>\n",
       "      <td>13</td>\n",
       "      <td>224</td>\n",
       "      <td>44</td>\n",
       "      <td>Male</td>\n",
       "      <td>1</td>\n",
       "    </tr>\n",
       "    <tr>\n",
       "      <th>699</th>\n",
       "      <td>700</td>\n",
       "      <td>OnePlus 9</td>\n",
       "      <td>Android</td>\n",
       "      <td>212</td>\n",
       "      <td>5.4</td>\n",
       "      <td>1306</td>\n",
       "      <td>49</td>\n",
       "      <td>828</td>\n",
       "      <td>23</td>\n",
       "      <td>Female</td>\n",
       "      <td>3</td>\n",
       "    </tr>\n",
       "  </tbody>\n",
       "</table>\n",
       "</div>"
      ],
      "text/plain": [
       "     User ID        Device Model Operating System  App Usage Time (min/day)  \\\n",
       "695      696           iPhone 12              iOS                        92   \n",
       "696      697        Xiaomi Mi 11          Android                       316   \n",
       "697      698      Google Pixel 5          Android                        99   \n",
       "698      699  Samsung Galaxy S21          Android                        62   \n",
       "699      700           OnePlus 9          Android                       212   \n",
       "\n",
       "     Screen On Time (hours/day)  Battery Drain (mAh/day)  \\\n",
       "695                         3.9                     1082   \n",
       "696                         6.8                     1965   \n",
       "697                         3.1                      942   \n",
       "698                         1.7                      431   \n",
       "699                         5.4                     1306   \n",
       "\n",
       "     Number of Apps Installed  Data Usage (MB/day)  Age  Gender  \\\n",
       "695                        26                  381   22    Male   \n",
       "696                        68                 1201   59    Male   \n",
       "697                        22                  457   50  Female   \n",
       "698                        13                  224   44    Male   \n",
       "699                        49                  828   23  Female   \n",
       "\n",
       "     User Behavior Class  \n",
       "695                    2  \n",
       "696                    4  \n",
       "697                    2  \n",
       "698                    1  \n",
       "699                    3  "
      ]
     },
     "execution_count": 4,
     "metadata": {},
     "output_type": "execute_result"
    }
   ],
   "source": [
    "data.tail()"
   ]
  },
  {
   "cell_type": "code",
   "execution_count": 5,
   "id": "ab21d8e6",
   "metadata": {
    "execution": {
     "iopub.execute_input": "2024-11-15T14:32:53.754522Z",
     "iopub.status.busy": "2024-11-15T14:32:53.753765Z",
     "iopub.status.idle": "2024-11-15T14:32:53.765772Z",
     "shell.execute_reply": "2024-11-15T14:32:53.764686Z"
    },
    "papermill": {
     "duration": 0.02552,
     "end_time": "2024-11-15T14:32:53.768346",
     "exception": false,
     "start_time": "2024-11-15T14:32:53.742826",
     "status": "completed"
    },
    "tags": []
   },
   "outputs": [
    {
     "data": {
      "text/plain": [
       "User ID                       700\n",
       "Device Model                  700\n",
       "Operating System              700\n",
       "App Usage Time (min/day)      700\n",
       "Screen On Time (hours/day)    700\n",
       "Battery Drain (mAh/day)       700\n",
       "Number of Apps Installed      700\n",
       "Data Usage (MB/day)           700\n",
       "Age                           700\n",
       "Gender                        700\n",
       "User Behavior Class           700\n",
       "dtype: int64"
      ]
     },
     "execution_count": 5,
     "metadata": {},
     "output_type": "execute_result"
    }
   ],
   "source": [
    "data.count()"
   ]
  },
  {
   "cell_type": "markdown",
   "id": "4b713208",
   "metadata": {
    "papermill": {
     "duration": 0.009195,
     "end_time": "2024-11-15T14:32:53.787155",
     "exception": false,
     "start_time": "2024-11-15T14:32:53.777960",
     "status": "completed"
    },
    "tags": []
   },
   "source": [
    "# Descriptive Statistics "
   ]
  },
  {
   "cell_type": "code",
   "execution_count": 6,
   "id": "03acf472",
   "metadata": {
    "execution": {
     "iopub.execute_input": "2024-11-15T14:32:53.808459Z",
     "iopub.status.busy": "2024-11-15T14:32:53.807656Z",
     "iopub.status.idle": "2024-11-15T14:32:53.821801Z",
     "shell.execute_reply": "2024-11-15T14:32:53.820673Z"
    },
    "papermill": {
     "duration": 0.027706,
     "end_time": "2024-11-15T14:32:53.824335",
     "exception": false,
     "start_time": "2024-11-15T14:32:53.796629",
     "status": "completed"
    },
    "tags": []
   },
   "outputs": [
    {
     "data": {
      "text/plain": [
       "Device Model\n",
       "Xiaomi Mi 11          146\n",
       "iPhone 12             146\n",
       "Google Pixel 5        142\n",
       "OnePlus 9             133\n",
       "Samsung Galaxy S21    133\n",
       "Name: count, dtype: int64"
      ]
     },
     "execution_count": 6,
     "metadata": {},
     "output_type": "execute_result"
    }
   ],
   "source": [
    "data['Device Model'].value_counts()"
   ]
  },
  {
   "cell_type": "code",
   "execution_count": 7,
   "id": "53c72f77",
   "metadata": {
    "execution": {
     "iopub.execute_input": "2024-11-15T14:32:53.845471Z",
     "iopub.status.busy": "2024-11-15T14:32:53.845076Z",
     "iopub.status.idle": "2024-11-15T14:32:54.189271Z",
     "shell.execute_reply": "2024-11-15T14:32:54.187958Z"
    },
    "papermill": {
     "duration": 0.357897,
     "end_time": "2024-11-15T14:32:54.191967",
     "exception": false,
     "start_time": "2024-11-15T14:32:53.834070",
     "status": "completed"
    },
    "tags": []
   },
   "outputs": [
    {
     "data": {
      "image/png": "[encoded data removed]",
      "text/plain": [
       "<Figure size 1200x600 with 1 Axes>"
      ]
     },
     "metadata": {},
     "output_type": "display_data"
    }
   ],
   "source": [
    "# Choose column to display\n",
    "x = data['Device Model']\n",
    "counts = x.value_counts()\n",
    "\n",
    "# Plt bar\n",
    "plt.figure(figsize=(12,6))\n",
    "plt.bar(counts.index, counts.values)\n",
    "\n",
    "# Set title\n",
    "plt.title('Device Model')\n",
    "plt.xlabel('Device Model')\n",
    "plt.ylabel('Counts')\n",
    "\n",
    "plt.show()"
   ]
  },
  {
   "cell_type": "code",
   "execution_count": 8,
   "id": "3d44d0c2",
   "metadata": {
    "execution": {
     "iopub.execute_input": "2024-11-15T14:32:54.214868Z",
     "iopub.status.busy": "2024-11-15T14:32:54.214071Z",
     "iopub.status.idle": "2024-11-15T14:32:54.223379Z",
     "shell.execute_reply": "2024-11-15T14:32:54.222191Z"
    },
    "papermill": {
     "duration": 0.02384,
     "end_time": "2024-11-15T14:32:54.226137",
     "exception": false,
     "start_time": "2024-11-15T14:32:54.202297",
     "status": "completed"
    },
    "tags": []
   },
   "outputs": [
    {
     "data": {
      "text/plain": [
       "Operating System\n",
       "Android    554\n",
       "iOS        146\n",
       "Name: count, dtype: int64"
      ]
     },
     "execution_count": 8,
     "metadata": {},
     "output_type": "execute_result"
    }
   ],
   "source": [
    "data['Operating System'].value_counts()"
   ]
  },
  {
   "cell_type": "code",
   "execution_count": 9,
   "id": "6af8ecc7",
   "metadata": {
    "execution": {
     "iopub.execute_input": "2024-11-15T14:32:54.249641Z",
     "iopub.status.busy": "2024-11-15T14:32:54.248867Z",
     "iopub.status.idle": "2024-11-15T14:32:54.510910Z",
     "shell.execute_reply": "2024-11-15T14:32:54.509734Z"
    },
    "papermill": {
     "duration": 0.2772,
     "end_time": "2024-11-15T14:32:54.513649",
     "exception": false,
     "start_time": "2024-11-15T14:32:54.236449",
     "status": "completed"
    },
    "tags": []
   },
   "outputs": [
    {
     "data": {
      "image/png": "[encoded data removed]",
      "text/plain": [
       "<Figure size 1200x600 with 1 Axes>"
      ]
     },
     "metadata": {},
     "output_type": "display_data"
    }
   ],
   "source": [
    "# Choose column to display\n",
    "x = data['Operating System']\n",
    "counts = x.value_counts()\n",
    "\n",
    "# Plt bar\n",
    "plt.figure(figsize=(12,6))\n",
    "plt.bar(counts.index, counts.values)\n",
    "\n",
    "# Set title\n",
    "plt.title('Operating System')\n",
    "plt.xlabel('Operating System')\n",
    "plt.ylabel('Counts')\n",
    "\n",
    "plt.show()"
   ]
  },
  {
   "cell_type": "code",
   "execution_count": 10,
   "id": "d6e222b2",
   "metadata": {
    "execution": {
     "iopub.execute_input": "2024-11-15T14:32:54.537503Z",
     "iopub.status.busy": "2024-11-15T14:32:54.537060Z",
     "iopub.status.idle": "2024-11-15T14:32:54.882471Z",
     "shell.execute_reply": "2024-11-15T14:32:54.881318Z"
    },
    "papermill": {
     "duration": 0.360486,
     "end_time": "2024-11-15T14:32:54.885057",
     "exception": false,
     "start_time": "2024-11-15T14:32:54.524571",
     "status": "completed"
    },
    "tags": []
   },
   "outputs": [
    {
     "data": {
      "image/png": "[encoded data removed]",
      "text/plain": [
       "<Figure size 1200x600 with 1 Axes>"
      ]
     },
     "metadata": {},
     "output_type": "display_data"
    }
   ],
   "source": [
    "# Choose column to display\n",
    "x = data['App Usage Time (min/day)']\n",
    "\n",
    "# Plt bar\n",
    "plt.figure(figsize=(12,6))\n",
    "plt.hist(x/60, bins=30)\n",
    "\n",
    "# Set title\n",
    "plt.title('App Usage Time')\n",
    "plt.xlabel('App Usage Time (hours/day)')\n",
    "plt.ylabel('Counts')\n",
    "\n",
    "plt.show()"
   ]
  },
  {
   "cell_type": "code",
   "execution_count": 11,
   "id": "272e430e",
   "metadata": {
    "execution": {
     "iopub.execute_input": "2024-11-15T14:32:54.910774Z",
     "iopub.status.busy": "2024-11-15T14:32:54.909087Z",
     "iopub.status.idle": "2024-11-15T14:32:55.205960Z",
     "shell.execute_reply": "2024-11-15T14:32:55.204761Z"
    },
    "papermill": {
     "duration": 0.312352,
     "end_time": "2024-11-15T14:32:55.208739",
     "exception": false,
     "start_time": "2024-11-15T14:32:54.896387",
     "status": "completed"
    },
    "tags": []
   },
   "outputs": [
    {
     "data": {
      "image/png": "[encoded data removed]",
      "text/plain": [
       "<Figure size 1200x600 with 1 Axes>"
      ]
     },
     "metadata": {},
     "output_type": "display_data"
    }
   ],
   "source": [
    "# Choose column to display\n",
    "x = data['Screen On Time (hours/day)']\n",
    "\n",
    "# Plt bar\n",
    "plt.figure(figsize=(12,6))\n",
    "plt.hist(x, bins=30)\n",
    "\n",
    "# Set title\n",
    "plt.title('Screen On Time')\n",
    "plt.xlabel('Screen On Time (hours/day)')\n",
    "plt.ylabel('Counts')\n",
    "\n",
    "plt.show()"
   ]
  },
  {
   "cell_type": "markdown",
   "id": "cbd0be4b",
   "metadata": {
    "papermill": {
     "duration": 0.011519,
     "end_time": "2024-11-15T14:32:55.232123",
     "exception": false,
     "start_time": "2024-11-15T14:32:55.220604",
     "status": "completed"
    },
    "tags": []
   },
   "source": [
    "# Feature Engineering"
   ]
  },
  {
   "cell_type": "code",
   "execution_count": 12,
   "id": "638420f0",
   "metadata": {
    "execution": {
     "iopub.execute_input": "2024-11-15T14:32:55.257913Z",
     "iopub.status.busy": "2024-11-15T14:32:55.257404Z",
     "iopub.status.idle": "2024-11-15T14:32:55.276077Z",
     "shell.execute_reply": "2024-11-15T14:32:55.274698Z"
    },
    "papermill": {
     "duration": 0.034829,
     "end_time": "2024-11-15T14:32:55.278849",
     "exception": false,
     "start_time": "2024-11-15T14:32:55.244020",
     "status": "completed"
    },
    "tags": []
   },
   "outputs": [
    {
     "name": "stdout",
     "output_type": "stream",
     "text": [
      "0      between 360-600 mins\n",
      "1      between 360-600 mins\n",
      "2      between 120-360 mins\n",
      "3      between 120-360 mins\n",
      "4      between 120-360 mins\n",
      "               ...         \n",
      "695    between 120-360 mins\n",
      "696    between 360-600 mins\n",
      "697    between 120-360 mins\n",
      "698    between 120-360 mins\n",
      "699    between 120-360 mins\n",
      "Name: App Usage Time (min/day), Length: 700, dtype: category\n",
      "Categories (4, object): ['less than 120 mins' < 'between 120-360 mins' < 'between 360-600 mins' < 'more than 600 mins']\n"
     ]
    }
   ],
   "source": [
    "# Choose column to display\n",
    "x = data['App Usage Time (min/day)']\n",
    "\n",
    "# Devides and bins\n",
    "bins = [0, 60, 240, 480, float('inf')]\n",
    "labels = ['less than 120 mins', 'between 120-360 mins', 'between 360-600 mins', 'more than 600 mins']\n",
    "x_feature = pd.cut(x, bins=bins, labels=labels)\n",
    "\n",
    "print(x_feature)"
   ]
  },
  {
   "cell_type": "code",
   "execution_count": 13,
   "id": "35e88b48",
   "metadata": {
    "execution": {
     "iopub.execute_input": "2024-11-15T14:32:55.306481Z",
     "iopub.status.busy": "2024-11-15T14:32:55.306037Z",
     "iopub.status.idle": "2024-11-15T14:32:55.314402Z",
     "shell.execute_reply": "2024-11-15T14:32:55.313210Z"
    },
    "papermill": {
     "duration": 0.025544,
     "end_time": "2024-11-15T14:32:55.316938",
     "exception": false,
     "start_time": "2024-11-15T14:32:55.291394",
     "status": "completed"
    },
    "tags": []
   },
   "outputs": [
    {
     "name": "stdout",
     "output_type": "stream",
     "text": [
      "App Usage Time (min/day)\n",
      "between 120-360 mins    305\n",
      "between 360-600 mins    196\n",
      "more than 600 mins      136\n",
      "less than 120 mins       63\n",
      "Name: count, dtype: int64\n"
     ]
    }
   ],
   "source": [
    "counts = x_feature.value_counts()\n",
    "\n",
    "print(counts)"
   ]
  },
  {
   "cell_type": "code",
   "execution_count": 14,
   "id": "063f1e9e",
   "metadata": {
    "execution": {
     "iopub.execute_input": "2024-11-15T14:32:55.343294Z",
     "iopub.status.busy": "2024-11-15T14:32:55.342866Z",
     "iopub.status.idle": "2024-11-15T14:32:55.557595Z",
     "shell.execute_reply": "2024-11-15T14:32:55.556522Z"
    },
    "papermill": {
     "duration": 0.230525,
     "end_time": "2024-11-15T14:32:55.560002",
     "exception": false,
     "start_time": "2024-11-15T14:32:55.329477",
     "status": "completed"
    },
    "tags": []
   },
   "outputs": [
    {
     "data": {
      "image/png": "[encoded data removed]",
      "text/plain": [
       "<Figure size 640x480 with 1 Axes>"
      ]
     },
     "metadata": {},
     "output_type": "display_data"
    },
    {
     "data": {
      "text/plain": [
       "<Figure size 1200x600 with 0 Axes>"
      ]
     },
     "metadata": {},
     "output_type": "display_data"
    }
   ],
   "source": [
    "# 計算每個標籤出現的次數\n",
    "counts = x_feature.value_counts()\n",
    "counts = counts.reindex(['less than 120 mins', 'between 120-360 mins','between 360-600 mins' , 'more than 600 mins'])\n",
    "\n",
    "# 繪製 bar chart\n",
    "counts.plot(kind = 'bar')\n",
    "plt.figure(figsize=(12,6))\n",
    "plt.show()"
   ]
  },
  {
   "cell_type": "markdown",
   "id": "11d04b75",
   "metadata": {
    "papermill": {
     "duration": 0.012183,
     "end_time": "2024-11-15T14:32:55.584807",
     "exception": false,
     "start_time": "2024-11-15T14:32:55.572624",
     "status": "completed"
    },
    "tags": []
   },
   "source": [
    "# Web Scraping"
   ]
  },
  {
   "cell_type": "markdown",
   "id": "eff584b8",
   "metadata": {
    "papermill": {
     "duration": 0.012213,
     "end_time": "2024-11-15T14:32:55.609603",
     "exception": false,
     "start_time": "2024-11-15T14:32:55.597390",
     "status": "completed"
    },
    "tags": []
   },
   "source": [
    "# Regression Analysis"
   ]
  },
  {
   "cell_type": "code",
   "execution_count": 15,
   "id": "f98bdf7d",
   "metadata": {
    "execution": {
     "iopub.execute_input": "2024-11-15T14:32:55.636796Z",
     "iopub.status.busy": "2024-11-15T14:32:55.636260Z",
     "iopub.status.idle": "2024-11-15T14:32:56.028955Z",
     "shell.execute_reply": "2024-11-15T14:32:56.027375Z"
    },
    "papermill": {
     "duration": 0.410398,
     "end_time": "2024-11-15T14:32:56.032555",
     "exception": false,
     "start_time": "2024-11-15T14:32:55.622157",
     "status": "completed"
    },
    "tags": []
   },
   "outputs": [],
   "source": [
    "# Choose x and y data\n",
    "from sklearn.model_selection import train_test_split\n",
    "from sklearn.linear_model import LinearRegression\n",
    "from sklearn.metrics import mean_squared_error\n",
    "\n",
    "X = data[['Screen On Time (hours/day)']]  \n",
    "y = data['App Usage Time (min/day)']"
   ]
  },
  {
   "cell_type": "code",
   "execution_count": 16,
   "id": "c51f0ded",
   "metadata": {
    "execution": {
     "iopub.execute_input": "2024-11-15T14:32:56.070503Z",
     "iopub.status.busy": "2024-11-15T14:32:56.069624Z",
     "iopub.status.idle": "2024-11-15T14:32:56.083254Z",
     "shell.execute_reply": "2024-11-15T14:32:56.077831Z"
    },
    "papermill": {
     "duration": 0.037904,
     "end_time": "2024-11-15T14:32:56.087398",
     "exception": false,
     "start_time": "2024-11-15T14:32:56.049494",
     "status": "completed"
    },
    "tags": []
   },
   "outputs": [],
   "source": [
    "# Train test split\n",
    "X_train, X_test, y_train, y_test = train_test_split(X, y, test_size=0.2, random_state=42)"
   ]
  },
  {
   "cell_type": "code",
   "execution_count": 17,
   "id": "501931ae",
   "metadata": {
    "execution": {
     "iopub.execute_input": "2024-11-15T14:32:56.125492Z",
     "iopub.status.busy": "2024-11-15T14:32:56.124885Z",
     "iopub.status.idle": "2024-11-15T14:32:56.152189Z",
     "shell.execute_reply": "2024-11-15T14:32:56.151029Z"
    },
    "papermill": {
     "duration": 0.047991,
     "end_time": "2024-11-15T14:32:56.154844",
     "exception": false,
     "start_time": "2024-11-15T14:32:56.106853",
     "status": "completed"
    },
    "tags": []
   },
   "outputs": [
    {
     "data": {
      "text/html": [
       "<style>#sk-container-id-1 {color: black;background-color: white;}#sk-container-id-1 pre{padding: 0;}#sk-container-id-1 div.sk-toggleable {background-color: white;}#sk-container-id-1 label.sk-toggleable__label {cursor: pointer;display: block;width: 100%;margin-bottom: 0;padding: 0.3em;box-sizing: border-box;text-align: center;}#sk-container-id-1 label.sk-toggleable__label-arrow:before {content: \"▸\";float: left;margin-right: 0.25em;color: #696969;}#sk-container-id-1 label.sk-toggleable__label-arrow:hover:before {color: black;}#sk-container-id-1 div.sk-estimator:hover label.sk-toggleable__label-arrow:before {color: black;}#sk-container-id-1 div.sk-toggleable__content {max-height: 0;max-width: 0;overflow: hidden;text-align: left;background-color: #f0f8ff;}#sk-container-id-1 div.sk-toggleable__content pre {margin: 0.2em;color: black;border-radius: 0.25em;background-color: #f0f8ff;}#sk-container-id-1 input.sk-toggleable__control:checked~div.sk-toggleable__content {max-height: 200px;max-width: 100%;overflow: auto;}#sk-container-id-1 input.sk-toggleable__control:checked~label.sk-toggleable__label-arrow:before {content: \"▾\";}#sk-container-id-1 div.sk-estimator input.sk-toggleable__control:checked~label.sk-toggleable__label {background-color: #d4ebff;}#sk-container-id-1 div.sk-label input.sk-toggleable__control:checked~label.sk-toggleable__label {background-color: #d4ebff;}#sk-container-id-1 input.sk-hidden--visually {border: 0;clip: rect(1px 1px 1px 1px);clip: rect(1px, 1px, 1px, 1px);height: 1px;margin: -1px;overflow: hidden;padding: 0;position: absolute;width: 1px;}#sk-container-id-1 div.sk-estimator {font-family: monospace;background-color: #f0f8ff;border: 1px dotted black;border-radius: 0.25em;box-sizing: border-box;margin-bottom: 0.5em;}#sk-container-id-1 div.sk-estimator:hover {background-color: #d4ebff;}#sk-container-id-1 div.sk-parallel-item::after {content: \"\";width: 100%;border-bottom: 1px solid gray;flex-grow: 1;}#sk-container-id-1 div.sk-label:hover label.sk-toggleable__label {background-color: #d4ebff;}#sk-container-id-1 div.sk-serial::before {content: \"\";position: absolute;border-left: 1px solid gray;box-sizing: border-box;top: 0;bottom: 0;left: 50%;z-index: 0;}#sk-container-id-1 div.sk-serial {display: flex;flex-direction: column;align-items: center;background-color: white;padding-right: 0.2em;padding-left: 0.2em;position: relative;}#sk-container-id-1 div.sk-item {position: relative;z-index: 1;}#sk-container-id-1 div.sk-parallel {display: flex;align-items: stretch;justify-content: center;background-color: white;position: relative;}#sk-container-id-1 div.sk-item::before, #sk-container-id-1 div.sk-parallel-item::before {content: \"\";position: absolute;border-left: 1px solid gray;box-sizing: border-box;top: 0;bottom: 0;left: 50%;z-index: -1;}#sk-container-id-1 div.sk-parallel-item {display: flex;flex-direction: column;z-index: 1;position: relative;background-color: white;}#sk-container-id-1 div.sk-parallel-item:first-child::after {align-self: flex-end;width: 50%;}#sk-container-id-1 div.sk-parallel-item:last-child::after {align-self: flex-start;width: 50%;}#sk-container-id-1 div.sk-parallel-item:only-child::after {width: 0;}#sk-container-id-1 div.sk-dashed-wrapped {border: 1px dashed gray;margin: 0 0.4em 0.5em 0.4em;box-sizing: border-box;padding-bottom: 0.4em;background-color: white;}#sk-container-id-1 div.sk-label label {font-family: monospace;font-weight: bold;display: inline-block;line-height: 1.2em;}#sk-container-id-1 div.sk-label-container {text-align: center;}#sk-container-id-1 div.sk-container {/* jupyter's `normalize.less` sets `[hidden] { display: none; }` but bootstrap.min.css set `[hidden] { display: none !important; }` so we also need the `!important` here to be able to override the default hidden behavior on the sphinx rendered scikit-learn.org. See: https://github.com/scikit-learn/scikit-learn/issues/21755 */display: inline-block !important;position: relative;}#sk-container-id-1 div.sk-text-repr-fallback {display: none;}</style><div id=\"sk-container-id-1\" class=\"sk-top-container\"><div class=\"sk-text-repr-fallback\"><pre>LinearRegression()</pre><b>In a Jupyter environment, please rerun this cell to show the HTML representation or trust the notebook. <br />On GitHub, the HTML representation is unable to render, please try loading this page with nbviewer.org.</b></div><div class=\"sk-container\" hidden><div class=\"sk-item\"><div class=\"sk-estimator sk-toggleable\"><input class=\"sk-toggleable__control sk-hidden--visually\" id=\"sk-estimator-id-1\" type=\"checkbox\" checked><label for=\"sk-estimator-id-1\" class=\"sk-toggleable__label sk-toggleable__label-arrow\">LinearRegression</label><div class=\"sk-toggleable__content\"><pre>LinearRegression()</pre></div></div></div></div></div>"
      ],
      "text/plain": [
       "LinearRegression()"
      ]
     },
     "execution_count": 17,
     "metadata": {},
     "output_type": "execute_result"
    }
   ],
   "source": [
    "# Regression model\n",
    "model = LinearRegression()\n",
    "model.fit(X_train, y_train)"
   ]
  },
  {
   "cell_type": "code",
   "execution_count": 18,
   "id": "e2121aee",
   "metadata": {
    "execution": {
     "iopub.execute_input": "2024-11-15T14:32:56.183002Z",
     "iopub.status.busy": "2024-11-15T14:32:56.182525Z",
     "iopub.status.idle": "2024-11-15T14:32:56.190094Z",
     "shell.execute_reply": "2024-11-15T14:32:56.188787Z"
    },
    "papermill": {
     "duration": 0.024759,
     "end_time": "2024-11-15T14:32:56.192903",
     "exception": false,
     "start_time": "2024-11-15T14:32:56.168144",
     "status": "completed"
    },
    "tags": []
   },
   "outputs": [],
   "source": [
    "# Make precdict\n",
    "y_pred = model.predict(X_test)"
   ]
  },
  {
   "cell_type": "code",
   "execution_count": 19,
   "id": "541f2814",
   "metadata": {
    "execution": {
     "iopub.execute_input": "2024-11-15T14:32:56.220575Z",
     "iopub.status.busy": "2024-11-15T14:32:56.220162Z",
     "iopub.status.idle": "2024-11-15T14:32:56.538439Z",
     "shell.execute_reply": "2024-11-15T14:32:56.537241Z"
    },
    "papermill": {
     "duration": 0.335195,
     "end_time": "2024-11-15T14:32:56.541114",
     "exception": false,
     "start_time": "2024-11-15T14:32:56.205919",
     "status": "completed"
    },
    "tags": []
   },
   "outputs": [
    {
     "data": {
      "image/png": "[encoded data removed]",
      "text/plain": [
       "<Figure size 640x480 with 1 Axes>"
      ]
     },
     "metadata": {},
     "output_type": "display_data"
    }
   ],
   "source": [
    "# Visualize\n",
    "plt.scatter(X_test, y_test, color='blue')\n",
    "plt.plot(X_test, y_pred, color='red')\n",
    "plt.xlabel('Feature')\n",
    "plt.ylabel('Target')\n",
    "plt.title('Linear Regression')\n",
    "plt.show()"
   ]
  }
 ],
 "metadata": {
  "kaggle": {
   "accelerator": "none",
   "dataSources": [
    {
     "datasetId": 5784553,
     "sourceId": 9504237,
     "sourceType": "datasetVersion"
    }
   ],
   "dockerImageVersionId": 30786,
   "isGpuEnabled": false,
   "isInternetEnabled": false,
   "language": "python",
   "sourceType": "notebook"
  },
  "kernelspec": {
   "display_name": "Python 3",
   "language": "python",
   "name": "python3"
  },
  "language_info": {
   "codemirror_mode": {
    "name": "ipython",
    "version": 3
   },
   "file_extension": ".py",
   "mimetype": "text/x-python",
   "name": "python",
   "nbconvert_exporter": "python",
   "pygments_lexer": "ipython3",
   "version": "3.10.14"
  },
  "papermill": {
   "default_parameters": {},
   "duration": 9.688811,
   "end_time": "2024-11-15T14:32:57.276254",
   "environment_variables": {},
   "exception": null,
   "input_path": "__notebook__.ipynb",
   "output_path": "__notebook__.ipynb",
   "parameters": {},
   "start_time": "2024-11-15T14:32:47.587443",
   "version": "2.6.0"
  }
 },
 "nbformat": 4,
 "nbformat_minor": 5
}
