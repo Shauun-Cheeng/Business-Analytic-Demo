{
 "cells": [
  {
   "cell_type": "markdown",
   "id": "91c67f0c",
   "metadata": {
    "papermill": {
     "duration": 0.006805,
     "end_time": "2024-11-14T15:36:06.854096",
     "exception": false,
     "start_time": "2024-11-14T15:36:06.847291",
     "status": "completed"
    },
    "tags": []
   },
   "source": [
    "# Introduction"
   ]
  },
  {
   "cell_type": "markdown",
   "id": "67bb5c2c",
   "metadata": {
    "papermill": {
     "duration": 0.005209,
     "end_time": "2024-11-14T15:36:06.865442",
     "exception": false,
     "start_time": "2024-11-14T15:36:06.860233",
     "status": "completed"
    },
    "tags": []
   },
   "source": [
    "About this Dataset https://www.kaggle.com/datasets/valakhorasani/mobile-device-usage-and-user-behavior-dataset\n",
    "\n",
    "This dataset provides a comprehensive analysis of mobile device usage patterns and user behavior classification. It contains 700 samples of user data, including metrics such as app usage time, screen-on time, battery drain, and data consumption. Each entry is categorized into one of five user behavior classes, ranging from light to extreme usage, allowing for insightful analysis and modeling."
   ]
  },
  {
   "cell_type": "markdown",
   "id": "8d7a8780",
   "metadata": {
    "papermill": {
     "duration": 0.00563,
     "end_time": "2024-11-14T15:36:06.876525",
     "exception": false,
     "start_time": "2024-11-14T15:36:06.870895",
     "status": "completed"
    },
    "tags": []
   },
   "source": [
    "# Method"
   ]
  },
  {
   "cell_type": "markdown",
   "id": "729a8b30",
   "metadata": {
    "papermill": {
     "duration": 0.005257,
     "end_time": "2024-11-14T15:36:06.887797",
     "exception": false,
     "start_time": "2024-11-14T15:36:06.882540",
     "status": "completed"
    },
    "tags": []
   },
   "source": [
    "1.Data Collection\n",
    "Data collection is the initial and crucial step in any data-driven project. It involves gathering raw information from various sources to gain insights, make informed decisions, and solve problems.\n",
    "\n",
    "2.Descriptive Statistics \n",
    "Descriptive statistics is a branch of statistics that involves summarizing and describing the main features of a dataset. It provides a snapshot of the data, highlighting its central tendencies, variability, and distribution.\n",
    "\n",
    "3.Web Scraping\n",
    "Web scraping is an automated process of extracting data from websites. It involves using software to fetch, parse, and structure data from the web. This technique is widely used for various purposes.\n",
    "\n",
    "4.Regression Analysis\n",
    "Regression analysis is a statistical method used to model the relationship between a dependent variable and one or more independent variables. It helps us understand how changes in the independent variables affect the dependent variable."
   ]
  },
  {
   "cell_type": "markdown",
   "id": "f0d69b86",
   "metadata": {
    "papermill": {
     "duration": 0.005245,
     "end_time": "2024-11-14T15:36:06.899016",
     "exception": false,
     "start_time": "2024-11-14T15:36:06.893771",
     "status": "completed"
    },
    "tags": []
   },
   "source": [
    "# Data display"
   ]
  },
  {
   "cell_type": "code",
   "execution_count": 1,
   "id": "6866cd60",
   "metadata": {
    "execution": {
     "iopub.execute_input": "2024-11-14T15:36:06.914368Z",
     "iopub.status.busy": "2024-11-14T15:36:06.913185Z",
     "iopub.status.idle": "2024-11-14T15:36:09.394785Z",
     "shell.execute_reply": "2024-11-14T15:36:09.393400Z"
    },
    "papermill": {
     "duration": 2.492438,
     "end_time": "2024-11-14T15:36:09.397486",
     "exception": false,
     "start_time": "2024-11-14T15:36:06.905048",
     "status": "completed"
    },
    "tags": []
   },
   "outputs": [],
   "source": [
    "# Import necessary libraries\n",
    "import numpy as np\n",
    "import pandas as pd\n",
    "import matplotlib.pyplot as plt\n",
    "import matplotlib.dates as mdates\n",
    "import seaborn as sns"
   ]
  },
  {
   "cell_type": "code",
   "execution_count": 2,
   "id": "645e9f0d",
   "metadata": {
    "execution": {
     "iopub.execute_input": "2024-11-14T15:36:09.412078Z",
     "iopub.status.busy": "2024-11-14T15:36:09.411487Z",
     "iopub.status.idle": "2024-11-14T15:36:09.435699Z",
     "shell.execute_reply": "2024-11-14T15:36:09.434429Z"
    },
    "papermill": {
     "duration": 0.035181,
     "end_time": "2024-11-14T15:36:09.438410",
     "exception": false,
     "start_time": "2024-11-14T15:36:09.403229",
     "status": "completed"
    },
    "tags": []
   },
   "outputs": [],
   "source": [
    "# Load datasets\n",
    "data = pd.read_csv('/kaggle/input/mobile-device-usage-and-user-behavior-dataset/user_behavior_dataset.csv')"
   ]
  },
  {
   "cell_type": "code",
   "execution_count": 3,
   "id": "6a168522",
   "metadata": {
    "execution": {
     "iopub.execute_input": "2024-11-14T15:36:09.451655Z",
     "iopub.status.busy": "2024-11-14T15:36:09.451205Z",
     "iopub.status.idle": "2024-11-14T15:36:09.477916Z",
     "shell.execute_reply": "2024-11-14T15:36:09.476532Z"
    },
    "papermill": {
     "duration": 0.03618,
     "end_time": "2024-11-14T15:36:09.480365",
     "exception": false,
     "start_time": "2024-11-14T15:36:09.444185",
     "status": "completed"
    },
    "tags": []
   },
   "outputs": [
    {
     "data": {
      "text/html": [
       "<div>\n",
       "<style scoped>\n",
       "    .dataframe tbody tr th:only-of-type {\n",
       "        vertical-align: middle;\n",
       "    }\n",
       "\n",
       "    .dataframe tbody tr th {\n",
       "        vertical-align: top;\n",
       "    }\n",
       "\n",
       "    .dataframe thead th {\n",
       "        text-align: right;\n",
       "    }\n",
       "</style>\n",
       "<table border=\"1\" class=\"dataframe\">\n",
       "  <thead>\n",
       "    <tr style=\"text-align: right;\">\n",
       "      <th></th>\n",
       "      <th>User ID</th>\n",
       "      <th>Device Model</th>\n",
       "      <th>Operating System</th>\n",
       "      <th>App Usage Time (min/day)</th>\n",
       "      <th>Screen On Time (hours/day)</th>\n",
       "      <th>Battery Drain (mAh/day)</th>\n",
       "      <th>Number of Apps Installed</th>\n",
       "      <th>Data Usage (MB/day)</th>\n",
       "      <th>Age</th>\n",
       "      <th>Gender</th>\n",
       "      <th>User Behavior Class</th>\n",
       "    </tr>\n",
       "  </thead>\n",
       "  <tbody>\n",
       "    <tr>\n",
       "      <th>0</th>\n",
       "      <td>1</td>\n",
       "      <td>Google Pixel 5</td>\n",
       "      <td>Android</td>\n",
       "      <td>393</td>\n",
       "      <td>6.4</td>\n",
       "      <td>1872</td>\n",
       "      <td>67</td>\n",
       "      <td>1122</td>\n",
       "      <td>40</td>\n",
       "      <td>Male</td>\n",
       "      <td>4</td>\n",
       "    </tr>\n",
       "    <tr>\n",
       "      <th>1</th>\n",
       "      <td>2</td>\n",
       "      <td>OnePlus 9</td>\n",
       "      <td>Android</td>\n",
       "      <td>268</td>\n",
       "      <td>4.7</td>\n",
       "      <td>1331</td>\n",
       "      <td>42</td>\n",
       "      <td>944</td>\n",
       "      <td>47</td>\n",
       "      <td>Female</td>\n",
       "      <td>3</td>\n",
       "    </tr>\n",
       "    <tr>\n",
       "      <th>2</th>\n",
       "      <td>3</td>\n",
       "      <td>Xiaomi Mi 11</td>\n",
       "      <td>Android</td>\n",
       "      <td>154</td>\n",
       "      <td>4.0</td>\n",
       "      <td>761</td>\n",
       "      <td>32</td>\n",
       "      <td>322</td>\n",
       "      <td>42</td>\n",
       "      <td>Male</td>\n",
       "      <td>2</td>\n",
       "    </tr>\n",
       "    <tr>\n",
       "      <th>3</th>\n",
       "      <td>4</td>\n",
       "      <td>Google Pixel 5</td>\n",
       "      <td>Android</td>\n",
       "      <td>239</td>\n",
       "      <td>4.8</td>\n",
       "      <td>1676</td>\n",
       "      <td>56</td>\n",
       "      <td>871</td>\n",
       "      <td>20</td>\n",
       "      <td>Male</td>\n",
       "      <td>3</td>\n",
       "    </tr>\n",
       "    <tr>\n",
       "      <th>4</th>\n",
       "      <td>5</td>\n",
       "      <td>iPhone 12</td>\n",
       "      <td>iOS</td>\n",
       "      <td>187</td>\n",
       "      <td>4.3</td>\n",
       "      <td>1367</td>\n",
       "      <td>58</td>\n",
       "      <td>988</td>\n",
       "      <td>31</td>\n",
       "      <td>Female</td>\n",
       "      <td>3</td>\n",
       "    </tr>\n",
       "  </tbody>\n",
       "</table>\n",
       "</div>"
      ],
      "text/plain": [
       "   User ID    Device Model Operating System  App Usage Time (min/day)  \\\n",
       "0        1  Google Pixel 5          Android                       393   \n",
       "1        2       OnePlus 9          Android                       268   \n",
       "2        3    Xiaomi Mi 11          Android                       154   \n",
       "3        4  Google Pixel 5          Android                       239   \n",
       "4        5       iPhone 12              iOS                       187   \n",
       "\n",
       "   Screen On Time (hours/day)  Battery Drain (mAh/day)  \\\n",
       "0                         6.4                     1872   \n",
       "1                         4.7                     1331   \n",
       "2                         4.0                      761   \n",
       "3                         4.8                     1676   \n",
       "4                         4.3                     1367   \n",
       "\n",
       "   Number of Apps Installed  Data Usage (MB/day)  Age  Gender  \\\n",
       "0                        67                 1122   40    Male   \n",
       "1                        42                  944   47  Female   \n",
       "2                        32                  322   42    Male   \n",
       "3                        56                  871   20    Male   \n",
       "4                        58                  988   31  Female   \n",
       "\n",
       "   User Behavior Class  \n",
       "0                    4  \n",
       "1                    3  \n",
       "2                    2  \n",
       "3                    3  \n",
       "4                    3  "
      ]
     },
     "execution_count": 3,
     "metadata": {},
     "output_type": "execute_result"
    }
   ],
   "source": [
    "data.head()"
   ]
  },
  {
   "cell_type": "code",
   "execution_count": 4,
   "id": "011afa85",
   "metadata": {
    "execution": {
     "iopub.execute_input": "2024-11-14T15:36:09.494437Z",
     "iopub.status.busy": "2024-11-14T15:36:09.493635Z",
     "iopub.status.idle": "2024-11-14T15:36:09.508860Z",
     "shell.execute_reply": "2024-11-14T15:36:09.507696Z"
    },
    "papermill": {
     "duration": 0.025033,
     "end_time": "2024-11-14T15:36:09.511395",
     "exception": false,
     "start_time": "2024-11-14T15:36:09.486362",
     "status": "completed"
    },
    "tags": []
   },
   "outputs": [
    {
     "data": {
      "text/html": [
       "<div>\n",
       "<style scoped>\n",
       "    .dataframe tbody tr th:only-of-type {\n",
       "        vertical-align: middle;\n",
       "    }\n",
       "\n",
       "    .dataframe tbody tr th {\n",
       "        vertical-align: top;\n",
       "    }\n",
       "\n",
       "    .dataframe thead th {\n",
       "        text-align: right;\n",
       "    }\n",
       "</style>\n",
       "<table border=\"1\" class=\"dataframe\">\n",
       "  <thead>\n",
       "    <tr style=\"text-align: right;\">\n",
       "      <th></th>\n",
       "      <th>User ID</th>\n",
       "      <th>Device Model</th>\n",
       "      <th>Operating System</th>\n",
       "      <th>App Usage Time (min/day)</th>\n",
       "      <th>Screen On Time (hours/day)</th>\n",
       "      <th>Battery Drain (mAh/day)</th>\n",
       "      <th>Number of Apps Installed</th>\n",
       "      <th>Data Usage (MB/day)</th>\n",
       "      <th>Age</th>\n",
       "      <th>Gender</th>\n",
       "      <th>User Behavior Class</th>\n",
       "    </tr>\n",
       "  </thead>\n",
       "  <tbody>\n",
       "    <tr>\n",
       "      <th>695</th>\n",
       "      <td>696</td>\n",
       "      <td>iPhone 12</td>\n",
       "      <td>iOS</td>\n",
       "      <td>92</td>\n",
       "      <td>3.9</td>\n",
       "      <td>1082</td>\n",
       "      <td>26</td>\n",
       "      <td>381</td>\n",
       "      <td>22</td>\n",
       "      <td>Male</td>\n",
       "      <td>2</td>\n",
       "    </tr>\n",
       "    <tr>\n",
       "      <th>696</th>\n",
       "      <td>697</td>\n",
       "      <td>Xiaomi Mi 11</td>\n",
       "      <td>Android</td>\n",
       "      <td>316</td>\n",
       "      <td>6.8</td>\n",
       "      <td>1965</td>\n",
       "      <td>68</td>\n",
       "      <td>1201</td>\n",
       "      <td>59</td>\n",
       "      <td>Male</td>\n",
       "      <td>4</td>\n",
       "    </tr>\n",
       "    <tr>\n",
       "      <th>697</th>\n",
       "      <td>698</td>\n",
       "      <td>Google Pixel 5</td>\n",
       "      <td>Android</td>\n",
       "      <td>99</td>\n",
       "      <td>3.1</td>\n",
       "      <td>942</td>\n",
       "      <td>22</td>\n",
       "      <td>457</td>\n",
       "      <td>50</td>\n",
       "      <td>Female</td>\n",
       "      <td>2</td>\n",
       "    </tr>\n",
       "    <tr>\n",
       "      <th>698</th>\n",
       "      <td>699</td>\n",
       "      <td>Samsung Galaxy S21</td>\n",
       "      <td>Android</td>\n",
       "      <td>62</td>\n",
       "      <td>1.7</td>\n",
       "      <td>431</td>\n",
       "      <td>13</td>\n",
       "      <td>224</td>\n",
       "      <td>44</td>\n",
       "      <td>Male</td>\n",
       "      <td>1</td>\n",
       "    </tr>\n",
       "    <tr>\n",
       "      <th>699</th>\n",
       "      <td>700</td>\n",
       "      <td>OnePlus 9</td>\n",
       "      <td>Android</td>\n",
       "      <td>212</td>\n",
       "      <td>5.4</td>\n",
       "      <td>1306</td>\n",
       "      <td>49</td>\n",
       "      <td>828</td>\n",
       "      <td>23</td>\n",
       "      <td>Female</td>\n",
       "      <td>3</td>\n",
       "    </tr>\n",
       "  </tbody>\n",
       "</table>\n",
       "</div>"
      ],
      "text/plain": [
       "     User ID        Device Model Operating System  App Usage Time (min/day)  \\\n",
       "695      696           iPhone 12              iOS                        92   \n",
       "696      697        Xiaomi Mi 11          Android                       316   \n",
       "697      698      Google Pixel 5          Android                        99   \n",
       "698      699  Samsung Galaxy S21          Android                        62   \n",
       "699      700           OnePlus 9          Android                       212   \n",
       "\n",
       "     Screen On Time (hours/day)  Battery Drain (mAh/day)  \\\n",
       "695                         3.9                     1082   \n",
       "696                         6.8                     1965   \n",
       "697                         3.1                      942   \n",
       "698                         1.7                      431   \n",
       "699                         5.4                     1306   \n",
       "\n",
       "     Number of Apps Installed  Data Usage (MB/day)  Age  Gender  \\\n",
       "695                        26                  381   22    Male   \n",
       "696                        68                 1201   59    Male   \n",
       "697                        22                  457   50  Female   \n",
       "698                        13                  224   44    Male   \n",
       "699                        49                  828   23  Female   \n",
       "\n",
       "     User Behavior Class  \n",
       "695                    2  \n",
       "696                    4  \n",
       "697                    2  \n",
       "698                    1  \n",
       "699                    3  "
      ]
     },
     "execution_count": 4,
     "metadata": {},
     "output_type": "execute_result"
    }
   ],
   "source": [
    "data.tail()"
   ]
  },
  {
   "cell_type": "code",
   "execution_count": 5,
   "id": "75751a7a",
   "metadata": {
    "execution": {
     "iopub.execute_input": "2024-11-14T15:36:09.525854Z",
     "iopub.status.busy": "2024-11-14T15:36:09.525449Z",
     "iopub.status.idle": "2024-11-14T15:36:09.537925Z",
     "shell.execute_reply": "2024-11-14T15:36:09.536721Z"
    },
    "papermill": {
     "duration": 0.022549,
     "end_time": "2024-11-14T15:36:09.540459",
     "exception": false,
     "start_time": "2024-11-14T15:36:09.517910",
     "status": "completed"
    },
    "tags": []
   },
   "outputs": [
    {
     "data": {
      "text/plain": [
       "User ID                       700\n",
       "Device Model                  700\n",
       "Operating System              700\n",
       "App Usage Time (min/day)      700\n",
       "Screen On Time (hours/day)    700\n",
       "Battery Drain (mAh/day)       700\n",
       "Number of Apps Installed      700\n",
       "Data Usage (MB/day)           700\n",
       "Age                           700\n",
       "Gender                        700\n",
       "User Behavior Class           700\n",
       "dtype: int64"
      ]
     },
     "execution_count": 5,
     "metadata": {},
     "output_type": "execute_result"
    }
   ],
   "source": [
    "data.count()"
   ]
  },
  {
   "cell_type": "markdown",
   "id": "f2e7f4a6",
   "metadata": {
    "papermill": {
     "duration": 0.005987,
     "end_time": "2024-11-14T15:36:09.553099",
     "exception": false,
     "start_time": "2024-11-14T15:36:09.547112",
     "status": "completed"
    },
    "tags": []
   },
   "source": [
    "# Descriptive Statistics "
   ]
  },
  {
   "cell_type": "code",
   "execution_count": 6,
   "id": "6c396509",
   "metadata": {
    "execution": {
     "iopub.execute_input": "2024-11-14T15:36:09.567154Z",
     "iopub.status.busy": "2024-11-14T15:36:09.566770Z",
     "iopub.status.idle": "2024-11-14T15:36:09.579975Z",
     "shell.execute_reply": "2024-11-14T15:36:09.578716Z"
    },
    "papermill": {
     "duration": 0.023158,
     "end_time": "2024-11-14T15:36:09.582422",
     "exception": false,
     "start_time": "2024-11-14T15:36:09.559264",
     "status": "completed"
    },
    "tags": []
   },
   "outputs": [
    {
     "data": {
      "text/plain": [
       "Device Model\n",
       "Xiaomi Mi 11          146\n",
       "iPhone 12             146\n",
       "Google Pixel 5        142\n",
       "OnePlus 9             133\n",
       "Samsung Galaxy S21    133\n",
       "Name: count, dtype: int64"
      ]
     },
     "execution_count": 6,
     "metadata": {},
     "output_type": "execute_result"
    }
   ],
   "source": [
    "data['Device Model'].value_counts()"
   ]
  },
  {
   "cell_type": "code",
   "execution_count": 7,
   "id": "14064c49",
   "metadata": {
    "execution": {
     "iopub.execute_input": "2024-11-14T15:36:09.597289Z",
     "iopub.status.busy": "2024-11-14T15:36:09.596865Z",
     "iopub.status.idle": "2024-11-14T15:36:09.870282Z",
     "shell.execute_reply": "2024-11-14T15:36:09.868947Z"
    },
    "papermill": {
     "duration": 0.284127,
     "end_time": "2024-11-14T15:36:09.873096",
     "exception": false,
     "start_time": "2024-11-14T15:36:09.588969",
     "status": "completed"
    },
    "tags": []
   },
   "outputs": [
    {
     "data": {
      "image/png": "[encoded data removed]",
      "text/plain": [
       "<Figure size 1200x600 with 1 Axes>"
      ]
     },
     "metadata": {},
     "output_type": "display_data"
    }
   ],
   "source": [
    "# Choose column to display\n",
    "x = data['Device Model']\n",
    "counts = x.value_counts()\n",
    "\n",
    "# Plt bar\n",
    "plt.figure(figsize=(12,6))\n",
    "plt.bar(counts.index, counts.values)\n",
    "\n",
    "# Set title\n",
    "plt.title('Device Model')\n",
    "plt.xlabel('Device Model')\n",
    "plt.ylabel('Counts')\n",
    "\n",
    "plt.show()"
   ]
  },
  {
   "cell_type": "code",
   "execution_count": 8,
   "id": "9b64c7a1",
   "metadata": {
    "execution": {
     "iopub.execute_input": "2024-11-14T15:36:09.889464Z",
     "iopub.status.busy": "2024-11-14T15:36:09.889010Z",
     "iopub.status.idle": "2024-11-14T15:36:09.898653Z",
     "shell.execute_reply": "2024-11-14T15:36:09.897581Z"
    },
    "papermill": {
     "duration": 0.020867,
     "end_time": "2024-11-14T15:36:09.900935",
     "exception": false,
     "start_time": "2024-11-14T15:36:09.880068",
     "status": "completed"
    },
    "tags": []
   },
   "outputs": [
    {
     "data": {
      "text/plain": [
       "Operating System\n",
       "Android    554\n",
       "iOS        146\n",
       "Name: count, dtype: int64"
      ]
     },
     "execution_count": 8,
     "metadata": {},
     "output_type": "execute_result"
    }
   ],
   "source": [
    "data['Operating System'].value_counts()"
   ]
  },
  {
   "cell_type": "code",
   "execution_count": 9,
   "id": "67785548",
   "metadata": {
    "execution": {
     "iopub.execute_input": "2024-11-14T15:36:09.916813Z",
     "iopub.status.busy": "2024-11-14T15:36:09.916365Z",
     "iopub.status.idle": "2024-11-14T15:36:10.113519Z",
     "shell.execute_reply": "2024-11-14T15:36:10.111975Z"
    },
    "papermill": {
     "duration": 0.207851,
     "end_time": "2024-11-14T15:36:10.115934",
     "exception": false,
     "start_time": "2024-11-14T15:36:09.908083",
     "status": "completed"
    },
    "tags": []
   },
   "outputs": [
    {
     "data": {
      "image/png": "[encoded data removed]",
      "text/plain": [
       "<Figure size 1200x600 with 1 Axes>"
      ]
     },
     "metadata": {},
     "output_type": "display_data"
    }
   ],
   "source": [
    "# Choose column to display\n",
    "x = data['Operating System']\n",
    "counts = x.value_counts()\n",
    "\n",
    "# Plt bar\n",
    "plt.figure(figsize=(12,6))\n",
    "plt.bar(counts.index, counts.values)\n",
    "\n",
    "# Set title\n",
    "plt.title('Operating System')\n",
    "plt.xlabel('Operating System')\n",
    "plt.ylabel('Counts')\n",
    "\n",
    "plt.show()"
   ]
  },
  {
   "cell_type": "code",
   "execution_count": 10,
   "id": "1d99b2a9",
   "metadata": {
    "execution": {
     "iopub.execute_input": "2024-11-14T15:36:10.133184Z",
     "iopub.status.busy": "2024-11-14T15:36:10.132148Z",
     "iopub.status.idle": "2024-11-14T15:36:10.446561Z",
     "shell.execute_reply": "2024-11-14T15:36:10.444710Z"
    },
    "papermill": {
     "duration": 0.325903,
     "end_time": "2024-11-14T15:36:10.449290",
     "exception": false,
     "start_time": "2024-11-14T15:36:10.123387",
     "status": "completed"
    },
    "tags": []
   },
   "outputs": [
    {
     "data": {
      "image/png": "[encoded data removed]",
      "text/plain": [
       "<Figure size 1200x600 with 1 Axes>"
      ]
     },
     "metadata": {},
     "output_type": "display_data"
    }
   ],
   "source": [
    "# Choose column to display\n",
    "x = data['App Usage Time (min/day)']\n",
    "\n",
    "# Plt bar\n",
    "plt.figure(figsize=(12,6))\n",
    "plt.hist(x/60, bins=30)\n",
    "\n",
    "# Set title\n",
    "plt.title('App Usage Time')\n",
    "plt.xlabel('App Usage Time (hours/day)')\n",
    "plt.ylabel('Counts')\n",
    "\n",
    "plt.show()"
   ]
  },
  {
   "cell_type": "code",
   "execution_count": 11,
   "id": "08e9d0cb",
   "metadata": {
    "execution": {
     "iopub.execute_input": "2024-11-14T15:36:10.467142Z",
     "iopub.status.busy": "2024-11-14T15:36:10.466720Z",
     "iopub.status.idle": "2024-11-14T15:36:10.744244Z",
     "shell.execute_reply": "2024-11-14T15:36:10.742607Z"
    },
    "papermill": {
     "duration": 0.289544,
     "end_time": "2024-11-14T15:36:10.746919",
     "exception": false,
     "start_time": "2024-11-14T15:36:10.457375",
     "status": "completed"
    },
    "tags": []
   },
   "outputs": [
    {
     "data": {
      "image/png": "[encoded data removed]",
      "text/plain": [
       "<Figure size 1200x600 with 1 Axes>"
      ]
     },
     "metadata": {},
     "output_type": "display_data"
    }
   ],
   "source": [
    "# Choose column to display\n",
    "x = data['Screen On Time (hours/day)']\n",
    "\n",
    "# Plt bar\n",
    "plt.figure(figsize=(12,6))\n",
    "plt.hist(x, bins=30)\n",
    "\n",
    "# Set title\n",
    "plt.title('Screen On Time')\n",
    "plt.xlabel('Screen On Time (hours/day)')\n",
    "plt.ylabel('Counts')\n",
    "\n",
    "plt.show()"
   ]
  },
  {
   "cell_type": "markdown",
   "id": "1bd77085",
   "metadata": {
    "papermill": {
     "duration": 0.008228,
     "end_time": "2024-11-14T15:36:10.763403",
     "exception": false,
     "start_time": "2024-11-14T15:36:10.755175",
     "status": "completed"
    },
    "tags": []
   },
   "source": [
    "# Feature Engineering"
   ]
  },
  {
   "cell_type": "code",
   "execution_count": 12,
   "id": "36772a1e",
   "metadata": {
    "execution": {
     "iopub.execute_input": "2024-11-14T15:36:10.783558Z",
     "iopub.status.busy": "2024-11-14T15:36:10.782133Z",
     "iopub.status.idle": "2024-11-14T15:36:10.801702Z",
     "shell.execute_reply": "2024-11-14T15:36:10.800382Z"
    },
    "papermill": {
     "duration": 0.031834,
     "end_time": "2024-11-14T15:36:10.804293",
     "exception": false,
     "start_time": "2024-11-14T15:36:10.772459",
     "status": "completed"
    },
    "tags": []
   },
   "outputs": [
    {
     "name": "stdout",
     "output_type": "stream",
     "text": [
      "0      less than 120 mins\n",
      "1      less than 120 mins\n",
      "2      less than 120 mins\n",
      "3      less than 120 mins\n",
      "4      less than 120 mins\n",
      "              ...        \n",
      "695    less than 120 mins\n",
      "696    less than 120 mins\n",
      "697    less than 120 mins\n",
      "698    less than 120 mins\n",
      "699    less than 120 mins\n",
      "Name: Screen On Time (hours/day), Length: 700, dtype: category\n",
      "Categories (4, object): ['less than 120 mins' < 'between 120-360 mins' < 'between 360-600 mins' < 'more than 600 mins']\n"
     ]
    }
   ],
   "source": [
    "# Devides and bins\n",
    "bins = [0, 60, 240, 480, float('inf')]\n",
    "labels = ['less than 120 mins', 'between 120-360 mins', 'between 360-600 mins', 'more than 600 mins']\n",
    "x_feature = pd.cut(x, bins=bins, labels=labels)\n",
    "\n",
    "print(x_feature)"
   ]
  },
  {
   "cell_type": "code",
   "execution_count": 13,
   "id": "a71ae724",
   "metadata": {
    "execution": {
     "iopub.execute_input": "2024-11-14T15:36:10.823423Z",
     "iopub.status.busy": "2024-11-14T15:36:10.822953Z",
     "iopub.status.idle": "2024-11-14T15:36:10.830941Z",
     "shell.execute_reply": "2024-11-14T15:36:10.829701Z"
    },
    "papermill": {
     "duration": 0.020447,
     "end_time": "2024-11-14T15:36:10.833834",
     "exception": false,
     "start_time": "2024-11-14T15:36:10.813387",
     "status": "completed"
    },
    "tags": []
   },
   "outputs": [
    {
     "name": "stdout",
     "output_type": "stream",
     "text": [
      "Screen On Time (hours/day)\n",
      "less than 120 mins      700\n",
      "between 120-360 mins      0\n",
      "between 360-600 mins      0\n",
      "more than 600 mins        0\n",
      "Name: count, dtype: int64\n"
     ]
    }
   ],
   "source": [
    "counts = x_feature.value_counts()\n",
    "\n",
    "print(counts)"
   ]
  },
  {
   "cell_type": "code",
   "execution_count": 14,
   "id": "a61de59e",
   "metadata": {
    "execution": {
     "iopub.execute_input": "2024-11-14T15:36:10.852506Z",
     "iopub.status.busy": "2024-11-14T15:36:10.852068Z",
     "iopub.status.idle": "2024-11-14T15:36:11.111816Z",
     "shell.execute_reply": "2024-11-14T15:36:11.110488Z"
    },
    "papermill": {
     "duration": 0.271768,
     "end_time": "2024-11-14T15:36:11.114155",
     "exception": false,
     "start_time": "2024-11-14T15:36:10.842387",
     "status": "completed"
    },
    "tags": []
   },
   "outputs": [
    {
     "data": {
      "image/png": "[encoded data removed]",
      "text/plain": [
       "<Figure size 640x480 with 1 Axes>"
      ]
     },
     "metadata": {},
     "output_type": "display_data"
    },
    {
     "data": {
      "text/plain": [
       "<Figure size 1200x600 with 0 Axes>"
      ]
     },
     "metadata": {},
     "output_type": "display_data"
    }
   ],
   "source": [
    "# 計算每個標籤出現的次數\n",
    "counts = x_feature.value_counts()\n",
    "counts = counts.reindex(['less than 120 mins', 'between 120-360 mins','between 360-600 mins' , 'more than 600 mins'])\n",
    "\n",
    "# 繪製 bar chart\n",
    "counts.plot(kind = 'bar')\n",
    "plt.figure(figsize=(12,6))\n",
    "plt.show()"
   ]
  },
  {
   "cell_type": "markdown",
   "id": "72f4fdfa",
   "metadata": {
    "papermill": {
     "duration": 0.009378,
     "end_time": "2024-11-14T15:36:11.132588",
     "exception": false,
     "start_time": "2024-11-14T15:36:11.123210",
     "status": "completed"
    },
    "tags": []
   },
   "source": [
    "# Web Scraping"
   ]
  },
  {
   "cell_type": "code",
   "execution_count": null,
   "id": "f1d2080c",
   "metadata": {
    "papermill": {
     "duration": 0.008539,
     "end_time": "2024-11-14T15:36:11.150002",
     "exception": false,
     "start_time": "2024-11-14T15:36:11.141463",
     "status": "completed"
    },
    "tags": []
   },
   "outputs": [],
   "source": []
  },
  {
   "cell_type": "markdown",
   "id": "7c5b85a8",
   "metadata": {
    "papermill": {
     "duration": 0.008388,
     "end_time": "2024-11-14T15:36:11.167215",
     "exception": false,
     "start_time": "2024-11-14T15:36:11.158827",
     "status": "completed"
    },
    "tags": []
   },
   "source": [
    "# Regression Analysis"
   ]
  },
  {
   "cell_type": "code",
   "execution_count": null,
   "id": "70a1a50f",
   "metadata": {
    "papermill": {
     "duration": 0.00844,
     "end_time": "2024-11-14T15:36:11.185162",
     "exception": false,
     "start_time": "2024-11-14T15:36:11.176722",
     "status": "completed"
    },
    "tags": []
   },
   "outputs": [],
   "source": []
  }
 ],
 "metadata": {
  "kaggle": {
   "accelerator": "none",
   "dataSources": [
    {
     "datasetId": 5784553,
     "sourceId": 9504237,
     "sourceType": "datasetVersion"
    }
   ],
   "dockerImageVersionId": 30786,
   "isGpuEnabled": false,
   "isInternetEnabled": false,
   "language": "python",
   "sourceType": "notebook"
  },
  "kernelspec": {
   "display_name": "Python 3",
   "language": "python",
   "name": "python3"
  },
  "language_info": {
   "codemirror_mode": {
    "name": "ipython",
    "version": 3
   },
   "file_extension": ".py",
   "mimetype": "text/x-python",
   "name": "python",
   "nbconvert_exporter": "python",
   "pygments_lexer": "ipython3",
   "version": "3.10.14"
  },
  "papermill": {
   "default_parameters": {},
   "duration": 7.824455,
   "end_time": "2024-11-14T15:36:11.815817",
   "environment_variables": {},
   "exception": null,
   "input_path": "__notebook__.ipynb",
   "output_path": "__notebook__.ipynb",
   "parameters": {},
   "start_time": "2024-11-14T15:36:03.991362",
   "version": "2.6.0"
  }
 },
 "nbformat": 4,
 "nbformat_minor": 5
}
